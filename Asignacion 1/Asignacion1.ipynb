{
 "cells": [
  {
   "cell_type": "markdown",
   "metadata": {},
   "source": [
    "# Asignación\n",
    "**Actividad desarrollada por Marcial Mosqueda**\n",
    "\n",
    "A continuación se mostrará el programa desarrollado paso a paso y, adicionalmente, encontrará las respuestas a las preguntas del apartado 1 de la asignación"
   ]
  },
  {
   "cell_type": "code",
   "execution_count": 1,
   "metadata": {
    "ExecuteTime": {
     "end_time": "2022-04-20T12:01:37.961330Z",
     "start_time": "2022-04-20T12:01:36.762689Z"
    }
   },
   "outputs": [],
   "source": [
    "import pandas as pd\n",
    "import plotly.express as px\n",
    "from IPython.display import Image"
   ]
  },
  {
   "cell_type": "markdown",
   "metadata": {},
   "source": [
    "## Sección: Comprobación del archivo y tratamiento de la data\n",
    "**Nota:** Este apartado pertenece a la segunda parte de la asignación"
   ]
  },
  {
   "cell_type": "markdown",
   "metadata": {},
   "source": [
    "Debido a que me gusto lo aprendido en clases de crear nuestras propias excepciones, decidí crear 3 especificas para el ejercicio propuesto con la intención de prácticar!!!"
   ]
  },
  {
   "cell_type": "code",
   "execution_count": 2,
   "metadata": {
    "ExecuteTime": {
     "end_time": "2022-04-20T12:01:37.966665Z",
     "start_time": "2022-04-20T12:01:37.962760Z"
    }
   },
   "outputs": [],
   "source": [
    "class Errors(Exception):\n",
    "    pass\n",
    "\n",
    "class ColumnError(Errors):\n",
    "    pass\n",
    "\n",
    "class SepsError(Errors):\n",
    "    pass\n",
    "\n",
    "class EmptyError(Errors):\n",
    "    pass\n"
   ]
  },
  {
   "cell_type": "markdown",
   "metadata": {
    "ExecuteTime": {
     "end_time": "2022-04-13T10:00:35.251827Z",
     "start_time": "2022-04-13T10:00:35.247930Z"
    }
   },
   "source": [
    "Creamos una función responsable de importar el csv y su validación, en caso de error se genera una excepción\n",
    "\n",
    "1. Se comprueba el fichero y cantidad de columnas\n",
    "2. se comprueba que las columnas sean las indicadas por el usuario\n",
    "3. Se valida que no existan columnas vacias"
   ]
  },
  {
   "cell_type": "code",
   "execution_count": 3,
   "metadata": {
    "ExecuteTime": {
     "end_time": "2022-04-20T12:01:37.976612Z",
     "start_time": "2022-04-20T12:01:37.969756Z"
    }
   },
   "outputs": [],
   "source": [
    "def create_df(path, columns, seps=[',',]):\n",
    "    \"\"\"Crea un dataframe de un archivo csv\n",
    "    path:str -> path donde se encuentra ubicado el csv\n",
    "    columns:list -> lista con las columnas en el csv\n",
    "    sep:list -> lista con los posibles separadores usados en el csv \"\"\"\n",
    "    #Validación de los argumentos\n",
    "    assert(type(path)==str),f'path debe ser un string y fue suministrado un {type(path)}'\n",
    "    assert(type(columns)==list),f'columns debe ser de tipo lista y fue suministrado un {type(columns)}'\n",
    "    assert(type(seps)==list),f'seps debe ser de tipo lista y fue suministrado un {type(seps)}'\n",
    "    assert(all(isinstance(x,str) for x in seps)),'elementos en seps deben ser del tipo string'\n",
    "    try:\n",
    "        df = pd.read_csv(path,sep=seps[0]) #Creación del DataFrame\n",
    "        check = False\n",
    "        \n",
    "        # Primera validación: Validación del constructor y pruebas con separadores\n",
    "        if len(df.columns) == len(columns):\n",
    "            check = True \n",
    "        else:\n",
    "            for item in seps[1:]:\n",
    "                df = pd.read_csv(path,sep=item)\n",
    "                if len(df.columns)==len(columns):\n",
    "                    check = True\n",
    "                    break\n",
    "        \n",
    "        # Segunda validación: Columnas en el DataFrame y separador\n",
    "        if not check:\n",
    "            if len(df.columns)==1:\n",
    "                raise SepsError\n",
    "            msg = 'El Dataframe no posee la cantidad de columnas indicadas'\n",
    "            raise ColumnError \n",
    "        \n",
    "        for col in columns:\n",
    "            if col not in df.columns:\n",
    "                msg = f'Columna {col} no se encuentra en el DataFrame'\n",
    "                raise ColumnError\n",
    "       \n",
    "        cols_vals = {col:df[col].isna().values.all() for col in df.columns}\n",
    "        \n",
    "        # Tercera validación: Datos en las columnas\n",
    "        if sum(cols_vals.values()) != 0:\n",
    "            raise EmptyError\n",
    "\n",
    "        return df\n",
    "\n",
    "    except IOError:\n",
    "        print(f'validar el path suministrado {path}')\n",
    "    except SepsError:\n",
    "        print('Validar los separadores indicados del csv') \n",
    "    except EmptyError:\n",
    "        print('Validar DataFrame y/o separadores suministrados\\n'+\n",
    "             'Columnas vacias\\n' + f'{cols_vals}')\n",
    "    except ColumnError:\n",
    "        print(msg)"
   ]
  },
  {
   "cell_type": "markdown",
   "metadata": {},
   "source": [
    "Procedemos a crear una función que nos ayude a validar los daros del Dataframe.\n",
    "Pasos de la función:\n",
    "\n",
    "* Al trabajar con data numérica se validará solo columnas que no posean valores numéricos\n",
    "* Se eliminaran las comillas simples o dobles de las celdas que contengan comillas\n",
    "* Se convertirán los errores y/o NaN en 0 \n",
    "\n",
    "La función se aplicará al Dataframe a través del método apply()"
   ]
  },
  {
   "cell_type": "code",
   "execution_count": 4,
   "metadata": {
    "ExecuteTime": {
     "end_time": "2022-04-20T12:01:37.982739Z",
     "start_time": "2022-04-20T12:01:37.979619Z"
    }
   },
   "outputs": [],
   "source": [
    "def check(col):\n",
    "    if col.dtypes == 'O':\n",
    "        col = col.str.replace(\"'\",'')\n",
    "        col = col.str.replace('\"','')\n",
    "        col = pd.to_numeric(col,errors='coerce').fillna(0)\n",
    "    return col"
   ]
  },
  {
   "cell_type": "markdown",
   "metadata": {},
   "source": [
    "## Sección: Implementación de la asignación"
   ]
  },
  {
   "cell_type": "markdown",
   "metadata": {},
   "source": [
    "Declaración de los siguientes parámetros:\n",
    "    \n",
    "- Path del archivo\n",
    "- Columnas\n",
    "- Posibles separadores"
   ]
  },
  {
   "cell_type": "markdown",
   "metadata": {},
   "source": [
    "**Nota:** El archivo csv debe estar en el mismo fichero del .py"
   ]
  },
  {
   "cell_type": "code",
   "execution_count": 5,
   "metadata": {
    "ExecuteTime": {
     "end_time": "2022-04-20T12:01:37.987276Z",
     "start_time": "2022-04-20T12:01:37.984787Z"
    }
   },
   "outputs": [],
   "source": [
    "path = 'Codigo fuente/finanzas2020[1].csv'\n",
    "\n",
    "columns = ['Enero','Febrero','Marzo','Abril','Mayo','Junio',\n",
    "    'Julio','Agosto','Septiembre','Octubre','Noviembre','Diciembre']\n",
    "\n",
    "seps = [',',';',':','\\t']"
   ]
  },
  {
   "cell_type": "markdown",
   "metadata": {},
   "source": [
    "Generamos el Dataframe del archivo Finanzas2020 con ayuda de la función creada en el apartado 1"
   ]
  },
  {
   "cell_type": "code",
   "execution_count": 6,
   "metadata": {
    "ExecuteTime": {
     "end_time": "2022-04-20T12:01:38.015009Z",
     "start_time": "2022-04-20T12:01:37.989086Z"
    }
   },
   "outputs": [
    {
     "data": {
      "text/html": [
       "<div>\n",
       "<style scoped>\n",
       "    .dataframe tbody tr th:only-of-type {\n",
       "        vertical-align: middle;\n",
       "    }\n",
       "\n",
       "    .dataframe tbody tr th {\n",
       "        vertical-align: top;\n",
       "    }\n",
       "\n",
       "    .dataframe thead th {\n",
       "        text-align: right;\n",
       "    }\n",
       "</style>\n",
       "<table border=\"1\" class=\"dataframe\">\n",
       "  <thead>\n",
       "    <tr style=\"text-align: right;\">\n",
       "      <th></th>\n",
       "      <th>Enero</th>\n",
       "      <th>Febrero</th>\n",
       "      <th>Marzo</th>\n",
       "      <th>Abril</th>\n",
       "      <th>Mayo</th>\n",
       "      <th>Junio</th>\n",
       "      <th>Julio</th>\n",
       "      <th>Agosto</th>\n",
       "      <th>Septiembre</th>\n",
       "      <th>Octubre</th>\n",
       "      <th>Noviembre</th>\n",
       "      <th>Diciembre</th>\n",
       "    </tr>\n",
       "  </thead>\n",
       "  <tbody>\n",
       "    <tr>\n",
       "      <th>0</th>\n",
       "      <td>-760</td>\n",
       "      <td>343</td>\n",
       "      <td>265</td>\n",
       "      <td>-624</td>\n",
       "      <td>-390</td>\n",
       "      <td>-796</td>\n",
       "      <td>601</td>\n",
       "      <td>-780</td>\n",
       "      <td>-491</td>\n",
       "      <td>645</td>\n",
       "      <td>-248</td>\n",
       "      <td>714</td>\n",
       "    </tr>\n",
       "    <tr>\n",
       "      <th>1</th>\n",
       "      <td>223</td>\n",
       "      <td>491</td>\n",
       "      <td>-397</td>\n",
       "      <td>-123</td>\n",
       "      <td>6</td>\n",
       "      <td>-115</td>\n",
       "      <td>157</td>\n",
       "      <td>-741</td>\n",
       "      <td>-951</td>\n",
       "      <td>267</td>\n",
       "      <td>14</td>\n",
       "      <td>-596</td>\n",
       "    </tr>\n",
       "    <tr>\n",
       "      <th>2</th>\n",
       "      <td>-872</td>\n",
       "      <td>-913</td>\n",
       "      <td>558</td>\n",
       "      <td>278</td>\n",
       "      <td>544</td>\n",
       "      <td>-223</td>\n",
       "      <td>607</td>\n",
       "      <td>-113</td>\n",
       "      <td>348</td>\n",
       "      <td>576</td>\n",
       "      <td>-977</td>\n",
       "      <td>195</td>\n",
       "    </tr>\n",
       "    <tr>\n",
       "      <th>3</th>\n",
       "      <td>111</td>\n",
       "      <td>-842</td>\n",
       "      <td>730</td>\n",
       "      <td>-761</td>\n",
       "      <td>158</td>\n",
       "      <td>-963</td>\n",
       "      <td>-290</td>\n",
       "      <td>-669</td>\n",
       "      <td>191</td>\n",
       "      <td>130</td>\n",
       "      <td>170</td>\n",
       "      <td>-274</td>\n",
       "    </tr>\n",
       "    <tr>\n",
       "      <th>4</th>\n",
       "      <td>919</td>\n",
       "      <td>111</td>\n",
       "      <td>-688</td>\n",
       "      <td>15</td>\n",
       "      <td>395</td>\n",
       "      <td>9</td>\n",
       "      <td>553</td>\n",
       "      <td>297</td>\n",
       "      <td>-302</td>\n",
       "      <td>695</td>\n",
       "      <td>730</td>\n",
       "      <td>-731</td>\n",
       "    </tr>\n",
       "    <tr>\n",
       "      <th>...</th>\n",
       "      <td>...</td>\n",
       "      <td>...</td>\n",
       "      <td>...</td>\n",
       "      <td>...</td>\n",
       "      <td>...</td>\n",
       "      <td>...</td>\n",
       "      <td>...</td>\n",
       "      <td>...</td>\n",
       "      <td>...</td>\n",
       "      <td>...</td>\n",
       "      <td>...</td>\n",
       "      <td>...</td>\n",
       "    </tr>\n",
       "    <tr>\n",
       "      <th>95</th>\n",
       "      <td>-652</td>\n",
       "      <td>233</td>\n",
       "      <td>-65</td>\n",
       "      <td>431</td>\n",
       "      <td>-593</td>\n",
       "      <td>-72</td>\n",
       "      <td>-140</td>\n",
       "      <td>-159</td>\n",
       "      <td>-581</td>\n",
       "      <td>771</td>\n",
       "      <td>191</td>\n",
       "      <td>313</td>\n",
       "    </tr>\n",
       "    <tr>\n",
       "      <th>96</th>\n",
       "      <td>777</td>\n",
       "      <td>-905</td>\n",
       "      <td>-405</td>\n",
       "      <td>110</td>\n",
       "      <td>-444</td>\n",
       "      <td>-978</td>\n",
       "      <td>-285</td>\n",
       "      <td>-346</td>\n",
       "      <td>207</td>\n",
       "      <td>-363</td>\n",
       "      <td>696</td>\n",
       "      <td>-971</td>\n",
       "    </tr>\n",
       "    <tr>\n",
       "      <th>97</th>\n",
       "      <td>-380</td>\n",
       "      <td>946</td>\n",
       "      <td>-790</td>\n",
       "      <td>9</td>\n",
       "      <td>-59</td>\n",
       "      <td>-743</td>\n",
       "      <td>-296</td>\n",
       "      <td>321</td>\n",
       "      <td>-767</td>\n",
       "      <td>944</td>\n",
       "      <td>-116</td>\n",
       "      <td>-873</td>\n",
       "    </tr>\n",
       "    <tr>\n",
       "      <th>98</th>\n",
       "      <td>244</td>\n",
       "      <td>-44</td>\n",
       "      <td>-271</td>\n",
       "      <td>462</td>\n",
       "      <td>-55</td>\n",
       "      <td>-699</td>\n",
       "      <td>674</td>\n",
       "      <td>-203</td>\n",
       "      <td>-792</td>\n",
       "      <td>-848</td>\n",
       "      <td>263</td>\n",
       "      <td>-378</td>\n",
       "    </tr>\n",
       "    <tr>\n",
       "      <th>99</th>\n",
       "      <td>126</td>\n",
       "      <td>-221</td>\n",
       "      <td>290</td>\n",
       "      <td>-960</td>\n",
       "      <td>-303</td>\n",
       "      <td>-384</td>\n",
       "      <td>506</td>\n",
       "      <td>-11</td>\n",
       "      <td>-456</td>\n",
       "      <td>268</td>\n",
       "      <td>630</td>\n",
       "      <td>271</td>\n",
       "    </tr>\n",
       "  </tbody>\n",
       "</table>\n",
       "<p>100 rows × 12 columns</p>\n",
       "</div>"
      ],
      "text/plain": [
       "   Enero  Febrero  Marzo  Abril  Mayo  Junio Julio  Agosto Septiembre Octubre  \\\n",
       "0   -760      343    265   -624  -390   -796   601    -780       -491     645   \n",
       "1    223      491   -397   -123     6   -115   157    -741       -951     267   \n",
       "2   -872     -913    558    278   544   -223   607    -113        348     576   \n",
       "3    111     -842    730   -761   158   -963  -290    -669        191     130   \n",
       "4    919      111   -688     15   395      9   553     297       -302     695   \n",
       "..   ...      ...    ...    ...   ...    ...   ...     ...        ...     ...   \n",
       "95  -652      233    -65    431  -593    -72  -140    -159       -581     771   \n",
       "96   777     -905   -405    110  -444   -978  -285    -346        207    -363   \n",
       "97  -380      946   -790      9   -59   -743  -296     321       -767     944   \n",
       "98   244      -44   -271    462   -55   -699   674    -203       -792    -848   \n",
       "99   126     -221    290   -960  -303   -384   506     -11       -456     268   \n",
       "\n",
       "   Noviembre  Diciembre  \n",
       "0       -248        714  \n",
       "1         14       -596  \n",
       "2       -977        195  \n",
       "3        170       -274  \n",
       "4        730       -731  \n",
       "..       ...        ...  \n",
       "95       191        313  \n",
       "96       696       -971  \n",
       "97      -116       -873  \n",
       "98       263       -378  \n",
       "99       630        271  \n",
       "\n",
       "[100 rows x 12 columns]"
      ]
     },
     "execution_count": 6,
     "metadata": {},
     "output_type": "execute_result"
    }
   ],
   "source": [
    "data = create_df(path,columns,seps)\n",
    "data"
   ]
  },
  {
   "cell_type": "markdown",
   "metadata": {},
   "source": [
    "Validemos el tipo de datos de cada columna "
   ]
  },
  {
   "cell_type": "code",
   "execution_count": 7,
   "metadata": {
    "ExecuteTime": {
     "end_time": "2022-04-20T12:01:38.020690Z",
     "start_time": "2022-04-20T12:01:38.016600Z"
    }
   },
   "outputs": [
    {
     "data": {
      "text/plain": [
       "Enero         object\n",
       "Febrero        int64\n",
       "Marzo          int64\n",
       "Abril          int64\n",
       "Mayo           int64\n",
       "Junio          int64\n",
       "Julio         object\n",
       "Agosto         int64\n",
       "Septiembre    object\n",
       "Octubre       object\n",
       "Noviembre     object\n",
       "Diciembre      int64\n",
       "dtype: object"
      ]
     },
     "execution_count": 7,
     "metadata": {},
     "output_type": "execute_result"
    }
   ],
   "source": [
    "data.dtypes"
   ]
  },
  {
   "cell_type": "markdown",
   "metadata": {},
   "source": [
    "Observamos que tenemos varias columnas con un tipo de Objeto, por lo que alguno de sus items son strings.\n",
    "\n",
    "Para corregir esta situación, haremos uso de la función \"check\" definida en el apartado anterior.\n",
    "\n",
    "**Nota:** Recordar que se debe aplicar a través del método apply()"
   ]
  },
  {
   "cell_type": "code",
   "execution_count": 8,
   "metadata": {
    "ExecuteTime": {
     "end_time": "2022-04-20T12:01:38.030705Z",
     "start_time": "2022-04-20T12:01:38.022272Z"
    }
   },
   "outputs": [
    {
     "data": {
      "text/plain": [
       "Enero           int64\n",
       "Febrero         int64\n",
       "Marzo           int64\n",
       "Abril           int64\n",
       "Mayo            int64\n",
       "Junio           int64\n",
       "Julio           int64\n",
       "Agosto          int64\n",
       "Septiembre    float64\n",
       "Octubre       float64\n",
       "Noviembre       int64\n",
       "Diciembre       int64\n",
       "dtype: object"
      ]
     },
     "execution_count": 8,
     "metadata": {},
     "output_type": "execute_result"
    }
   ],
   "source": [
    "data = data.apply(check)\n",
    "data.dtypes"
   ]
  },
  {
   "cell_type": "markdown",
   "metadata": {},
   "source": [
    "Como podemos observar las 12 columnas poseen un tipo de datos numérico.\n",
    "\n",
    "Los meses de Septiembre y Octubre poseen un tipo de dato tipo float64 debido a que contenian errores (NaN) luego de la conversión"
   ]
  },
  {
   "cell_type": "markdown",
   "metadata": {},
   "source": [
    "Procederemos a hacer una revisión general del DataFrame con describe()"
   ]
  },
  {
   "cell_type": "code",
   "execution_count": 9,
   "metadata": {
    "ExecuteTime": {
     "end_time": "2022-04-20T12:01:38.060004Z",
     "start_time": "2022-04-20T12:01:38.034022Z"
    }
   },
   "outputs": [
    {
     "data": {
      "text/html": [
       "<div>\n",
       "<style scoped>\n",
       "    .dataframe tbody tr th:only-of-type {\n",
       "        vertical-align: middle;\n",
       "    }\n",
       "\n",
       "    .dataframe tbody tr th {\n",
       "        vertical-align: top;\n",
       "    }\n",
       "\n",
       "    .dataframe thead th {\n",
       "        text-align: right;\n",
       "    }\n",
       "</style>\n",
       "<table border=\"1\" class=\"dataframe\">\n",
       "  <thead>\n",
       "    <tr style=\"text-align: right;\">\n",
       "      <th></th>\n",
       "      <th>Enero</th>\n",
       "      <th>Febrero</th>\n",
       "      <th>Marzo</th>\n",
       "      <th>Abril</th>\n",
       "      <th>Mayo</th>\n",
       "      <th>Junio</th>\n",
       "      <th>Julio</th>\n",
       "      <th>Agosto</th>\n",
       "      <th>Septiembre</th>\n",
       "      <th>Octubre</th>\n",
       "      <th>Noviembre</th>\n",
       "      <th>Diciembre</th>\n",
       "    </tr>\n",
       "  </thead>\n",
       "  <tbody>\n",
       "    <tr>\n",
       "      <th>count</th>\n",
       "      <td>100.000000</td>\n",
       "      <td>100.000000</td>\n",
       "      <td>100.000000</td>\n",
       "      <td>100.000000</td>\n",
       "      <td>100.000000</td>\n",
       "      <td>100.000000</td>\n",
       "      <td>100.000000</td>\n",
       "      <td>100.000000</td>\n",
       "      <td>100.000000</td>\n",
       "      <td>100.000000</td>\n",
       "      <td>100.000000</td>\n",
       "      <td>100.000000</td>\n",
       "    </tr>\n",
       "    <tr>\n",
       "      <th>mean</th>\n",
       "      <td>115.230000</td>\n",
       "      <td>0.390000</td>\n",
       "      <td>-79.690000</td>\n",
       "      <td>-189.330000</td>\n",
       "      <td>103.040000</td>\n",
       "      <td>-14.770000</td>\n",
       "      <td>76.980000</td>\n",
       "      <td>-87.350000</td>\n",
       "      <td>-109.480000</td>\n",
       "      <td>34.120000</td>\n",
       "      <td>11.570000</td>\n",
       "      <td>-30.440000</td>\n",
       "    </tr>\n",
       "    <tr>\n",
       "      <th>std</th>\n",
       "      <td>545.948842</td>\n",
       "      <td>573.923743</td>\n",
       "      <td>585.916595</td>\n",
       "      <td>538.862139</td>\n",
       "      <td>507.166817</td>\n",
       "      <td>560.952596</td>\n",
       "      <td>533.468164</td>\n",
       "      <td>559.822399</td>\n",
       "      <td>545.570288</td>\n",
       "      <td>568.993623</td>\n",
       "      <td>583.819006</td>\n",
       "      <td>568.313424</td>\n",
       "    </tr>\n",
       "    <tr>\n",
       "      <th>min</th>\n",
       "      <td>-966.000000</td>\n",
       "      <td>-989.000000</td>\n",
       "      <td>-979.000000</td>\n",
       "      <td>-960.000000</td>\n",
       "      <td>-981.000000</td>\n",
       "      <td>-978.000000</td>\n",
       "      <td>-994.000000</td>\n",
       "      <td>-987.000000</td>\n",
       "      <td>-980.000000</td>\n",
       "      <td>-988.000000</td>\n",
       "      <td>-977.000000</td>\n",
       "      <td>-991.000000</td>\n",
       "    </tr>\n",
       "    <tr>\n",
       "      <th>25%</th>\n",
       "      <td>-359.000000</td>\n",
       "      <td>-475.000000</td>\n",
       "      <td>-586.500000</td>\n",
       "      <td>-666.500000</td>\n",
       "      <td>-368.000000</td>\n",
       "      <td>-476.750000</td>\n",
       "      <td>-292.250000</td>\n",
       "      <td>-580.500000</td>\n",
       "      <td>-525.250000</td>\n",
       "      <td>-481.000000</td>\n",
       "      <td>-539.750000</td>\n",
       "      <td>-538.000000</td>\n",
       "    </tr>\n",
       "    <tr>\n",
       "      <th>50%</th>\n",
       "      <td>169.500000</td>\n",
       "      <td>-0.500000</td>\n",
       "      <td>-159.000000</td>\n",
       "      <td>-212.500000</td>\n",
       "      <td>151.000000</td>\n",
       "      <td>-50.000000</td>\n",
       "      <td>91.500000</td>\n",
       "      <td>-163.000000</td>\n",
       "      <td>-139.500000</td>\n",
       "      <td>71.500000</td>\n",
       "      <td>44.000000</td>\n",
       "      <td>0.500000</td>\n",
       "    </tr>\n",
       "    <tr>\n",
       "      <th>75%</th>\n",
       "      <td>541.750000</td>\n",
       "      <td>442.500000</td>\n",
       "      <td>390.750000</td>\n",
       "      <td>235.750000</td>\n",
       "      <td>539.500000</td>\n",
       "      <td>472.750000</td>\n",
       "      <td>528.250000</td>\n",
       "      <td>367.250000</td>\n",
       "      <td>348.000000</td>\n",
       "      <td>499.750000</td>\n",
       "      <td>445.250000</td>\n",
       "      <td>426.250000</td>\n",
       "    </tr>\n",
       "    <tr>\n",
       "      <th>max</th>\n",
       "      <td>990.000000</td>\n",
       "      <td>992.000000</td>\n",
       "      <td>999.000000</td>\n",
       "      <td>897.000000</td>\n",
       "      <td>998.000000</td>\n",
       "      <td>989.000000</td>\n",
       "      <td>926.000000</td>\n",
       "      <td>955.000000</td>\n",
       "      <td>978.000000</td>\n",
       "      <td>995.000000</td>\n",
       "      <td>985.000000</td>\n",
       "      <td>980.000000</td>\n",
       "    </tr>\n",
       "  </tbody>\n",
       "</table>\n",
       "</div>"
      ],
      "text/plain": [
       "            Enero     Febrero       Marzo       Abril        Mayo       Junio  \\\n",
       "count  100.000000  100.000000  100.000000  100.000000  100.000000  100.000000   \n",
       "mean   115.230000    0.390000  -79.690000 -189.330000  103.040000  -14.770000   \n",
       "std    545.948842  573.923743  585.916595  538.862139  507.166817  560.952596   \n",
       "min   -966.000000 -989.000000 -979.000000 -960.000000 -981.000000 -978.000000   \n",
       "25%   -359.000000 -475.000000 -586.500000 -666.500000 -368.000000 -476.750000   \n",
       "50%    169.500000   -0.500000 -159.000000 -212.500000  151.000000  -50.000000   \n",
       "75%    541.750000  442.500000  390.750000  235.750000  539.500000  472.750000   \n",
       "max    990.000000  992.000000  999.000000  897.000000  998.000000  989.000000   \n",
       "\n",
       "            Julio      Agosto  Septiembre     Octubre   Noviembre   Diciembre  \n",
       "count  100.000000  100.000000  100.000000  100.000000  100.000000  100.000000  \n",
       "mean    76.980000  -87.350000 -109.480000   34.120000   11.570000  -30.440000  \n",
       "std    533.468164  559.822399  545.570288  568.993623  583.819006  568.313424  \n",
       "min   -994.000000 -987.000000 -980.000000 -988.000000 -977.000000 -991.000000  \n",
       "25%   -292.250000 -580.500000 -525.250000 -481.000000 -539.750000 -538.000000  \n",
       "50%     91.500000 -163.000000 -139.500000   71.500000   44.000000    0.500000  \n",
       "75%    528.250000  367.250000  348.000000  499.750000  445.250000  426.250000  \n",
       "max    926.000000  955.000000  978.000000  995.000000  985.000000  980.000000  "
      ]
     },
     "execution_count": 9,
     "metadata": {},
     "output_type": "execute_result"
    }
   ],
   "source": [
    "data.describe()"
   ]
  },
  {
   "cell_type": "markdown",
   "metadata": {},
   "source": [
    "Para poder continuar con el análisis, procederemos a incluir dos nuevas filas al DataFrame.\n",
    "\n",
    "- 'Ahorro': será la suma de todos los valores >0 de cada mes\n",
    "- 'Gasto': será la suma de todos los valores <0 de cada mes"
   ]
  },
  {
   "cell_type": "code",
   "execution_count": 10,
   "metadata": {
    "ExecuteTime": {
     "end_time": "2022-04-20T12:01:38.085523Z",
     "start_time": "2022-04-20T12:01:38.062252Z"
    }
   },
   "outputs": [
    {
     "data": {
      "text/html": [
       "<div>\n",
       "<style scoped>\n",
       "    .dataframe tbody tr th:only-of-type {\n",
       "        vertical-align: middle;\n",
       "    }\n",
       "\n",
       "    .dataframe tbody tr th {\n",
       "        vertical-align: top;\n",
       "    }\n",
       "\n",
       "    .dataframe thead th {\n",
       "        text-align: right;\n",
       "    }\n",
       "</style>\n",
       "<table border=\"1\" class=\"dataframe\">\n",
       "  <thead>\n",
       "    <tr style=\"text-align: right;\">\n",
       "      <th></th>\n",
       "      <th>Enero</th>\n",
       "      <th>Febrero</th>\n",
       "      <th>Marzo</th>\n",
       "      <th>Abril</th>\n",
       "      <th>Mayo</th>\n",
       "      <th>Junio</th>\n",
       "      <th>Julio</th>\n",
       "      <th>Agosto</th>\n",
       "      <th>Septiembre</th>\n",
       "      <th>Octubre</th>\n",
       "      <th>Noviembre</th>\n",
       "      <th>Diciembre</th>\n",
       "    </tr>\n",
       "  </thead>\n",
       "  <tbody>\n",
       "    <tr>\n",
       "      <th>Gasto</th>\n",
       "      <td>-18162.0</td>\n",
       "      <td>-24398.0</td>\n",
       "      <td>-29690.0</td>\n",
       "      <td>-34133.0</td>\n",
       "      <td>-17200.0</td>\n",
       "      <td>-24197.0</td>\n",
       "      <td>-18992.0</td>\n",
       "      <td>-29013.0</td>\n",
       "      <td>-29151.0</td>\n",
       "      <td>-22957.0</td>\n",
       "      <td>-24180.0</td>\n",
       "      <td>-25861.0</td>\n",
       "    </tr>\n",
       "    <tr>\n",
       "      <th>Ahorro</th>\n",
       "      <td>29685.0</td>\n",
       "      <td>24437.0</td>\n",
       "      <td>21721.0</td>\n",
       "      <td>15200.0</td>\n",
       "      <td>27504.0</td>\n",
       "      <td>22720.0</td>\n",
       "      <td>26690.0</td>\n",
       "      <td>20278.0</td>\n",
       "      <td>18203.0</td>\n",
       "      <td>26369.0</td>\n",
       "      <td>25337.0</td>\n",
       "      <td>22817.0</td>\n",
       "    </tr>\n",
       "  </tbody>\n",
       "</table>\n",
       "</div>"
      ],
      "text/plain": [
       "          Enero  Febrero    Marzo    Abril     Mayo    Junio    Julio  \\\n",
       "Gasto  -18162.0 -24398.0 -29690.0 -34133.0 -17200.0 -24197.0 -18992.0   \n",
       "Ahorro  29685.0  24437.0  21721.0  15200.0  27504.0  22720.0  26690.0   \n",
       "\n",
       "         Agosto  Septiembre  Octubre  Noviembre  Diciembre  \n",
       "Gasto  -29013.0    -29151.0 -22957.0   -24180.0   -25861.0  \n",
       "Ahorro  20278.0     18203.0  26369.0    25337.0    22817.0  "
      ]
     },
     "execution_count": 10,
     "metadata": {},
     "output_type": "execute_result"
    }
   ],
   "source": [
    "data.loc['Gasto'] = data[data<0].sum()\n",
    "data.loc['Ahorro'] = data[data>0].sum()\n",
    "data.tail(2)"
   ]
  },
  {
   "cell_type": "markdown",
   "metadata": {},
   "source": [
    "Ahora tenemos toda la información ordenada para proceder a responder las preguntas del apratado 1 de la asignación:"
   ]
  },
  {
   "cell_type": "markdown",
   "metadata": {},
   "source": [
    "1. ¿Qué mes se ha gastado más?"
   ]
  },
  {
   "cell_type": "code",
   "execution_count": 11,
   "metadata": {
    "ExecuteTime": {
     "end_time": "2022-04-20T12:01:38.091790Z",
     "start_time": "2022-04-20T12:01:38.087240Z"
    }
   },
   "outputs": [
    {
     "data": {
      "text/plain": [
       "'Mayo'"
      ]
     },
     "execution_count": 11,
     "metadata": {},
     "output_type": "execute_result"
    }
   ],
   "source": [
    "data[data == data.loc['Gasto'].max()].loc['Gasto'].idxmax()"
   ]
  },
  {
   "cell_type": "markdown",
   "metadata": {},
   "source": [
    "2. ¿Qué mes se ha ahorrado más?"
   ]
  },
  {
   "cell_type": "code",
   "execution_count": 12,
   "metadata": {
    "ExecuteTime": {
     "end_time": "2022-04-20T12:01:38.097446Z",
     "start_time": "2022-04-20T12:01:38.093343Z"
    }
   },
   "outputs": [
    {
     "data": {
      "text/plain": [
       "'Enero'"
      ]
     },
     "execution_count": 12,
     "metadata": {},
     "output_type": "execute_result"
    }
   ],
   "source": [
    "data[data == data.loc['Ahorro'].max()].loc['Ahorro'].idxmax()"
   ]
  },
  {
   "cell_type": "markdown",
   "metadata": {},
   "source": [
    "3. ¿Cuál es la media de gastos al año?"
   ]
  },
  {
   "cell_type": "code",
   "execution_count": 13,
   "metadata": {
    "ExecuteTime": {
     "end_time": "2022-04-20T12:01:38.102277Z",
     "start_time": "2022-04-20T12:01:38.098989Z"
    }
   },
   "outputs": [
    {
     "data": {
      "text/plain": [
       "'-24,827.83'"
      ]
     },
     "execution_count": 13,
     "metadata": {},
     "output_type": "execute_result"
    }
   ],
   "source": [
    "'{:+,.2f}'.format(data.loc['Gasto'].mean())"
   ]
  },
  {
   "cell_type": "markdown",
   "metadata": {},
   "source": [
    "4. ¿Cuál ha sido el gasto total a lo largo del año?"
   ]
  },
  {
   "cell_type": "code",
   "execution_count": 14,
   "metadata": {
    "ExecuteTime": {
     "end_time": "2022-04-20T12:01:38.107125Z",
     "start_time": "2022-04-20T12:01:38.103996Z"
    }
   },
   "outputs": [
    {
     "data": {
      "text/plain": [
       "'-297,934.00'"
      ]
     },
     "execution_count": 14,
     "metadata": {},
     "output_type": "execute_result"
    }
   ],
   "source": [
    "'{:+,.2f}'.format(data.loc['Gasto'].sum())"
   ]
  },
  {
   "cell_type": "markdown",
   "metadata": {},
   "source": [
    "5. ¿Cuáles han sido los ingresos totales a lo largo del año?"
   ]
  },
  {
   "cell_type": "code",
   "execution_count": 15,
   "metadata": {
    "ExecuteTime": {
     "end_time": "2022-04-20T12:01:38.111805Z",
     "start_time": "2022-04-20T12:01:38.108503Z"
    }
   },
   "outputs": [
    {
     "data": {
      "text/plain": [
       "'280,961.00'"
      ]
     },
     "execution_count": 15,
     "metadata": {},
     "output_type": "execute_result"
    }
   ],
   "source": [
    "'{:,.2f}'.format(data.loc['Ahorro'].sum())"
   ]
  },
  {
   "cell_type": "markdown",
   "metadata": {},
   "source": [
    "6. Gráfica de los ingresos a lo largo del año"
   ]
  },
  {
   "cell_type": "markdown",
   "metadata": {},
   "source": [
    "Separo la data de Gastos y Ahorro por mes en un DataFrame independiente data2"
   ]
  },
  {
   "cell_type": "code",
   "execution_count": 16,
   "metadata": {
    "ExecuteTime": {
     "end_time": "2022-04-20T12:01:38.124826Z",
     "start_time": "2022-04-20T12:01:38.113118Z"
    }
   },
   "outputs": [
    {
     "data": {
      "text/html": [
       "<div>\n",
       "<style scoped>\n",
       "    .dataframe tbody tr th:only-of-type {\n",
       "        vertical-align: middle;\n",
       "    }\n",
       "\n",
       "    .dataframe tbody tr th {\n",
       "        vertical-align: top;\n",
       "    }\n",
       "\n",
       "    .dataframe thead th {\n",
       "        text-align: right;\n",
       "    }\n",
       "</style>\n",
       "<table border=\"1\" class=\"dataframe\">\n",
       "  <thead>\n",
       "    <tr style=\"text-align: right;\">\n",
       "      <th></th>\n",
       "      <th>Enero</th>\n",
       "      <th>Febrero</th>\n",
       "      <th>Marzo</th>\n",
       "      <th>Abril</th>\n",
       "      <th>Mayo</th>\n",
       "      <th>Junio</th>\n",
       "      <th>Julio</th>\n",
       "      <th>Agosto</th>\n",
       "      <th>Septiembre</th>\n",
       "      <th>Octubre</th>\n",
       "      <th>Noviembre</th>\n",
       "      <th>Diciembre</th>\n",
       "    </tr>\n",
       "  </thead>\n",
       "  <tbody>\n",
       "    <tr>\n",
       "      <th>Ahorro</th>\n",
       "      <td>29685.0</td>\n",
       "      <td>24437.0</td>\n",
       "      <td>21721.0</td>\n",
       "      <td>15200.0</td>\n",
       "      <td>27504.0</td>\n",
       "      <td>22720.0</td>\n",
       "      <td>26690.0</td>\n",
       "      <td>20278.0</td>\n",
       "      <td>18203.0</td>\n",
       "      <td>26369.0</td>\n",
       "      <td>25337.0</td>\n",
       "      <td>22817.0</td>\n",
       "    </tr>\n",
       "    <tr>\n",
       "      <th>Gasto</th>\n",
       "      <td>-18162.0</td>\n",
       "      <td>-24398.0</td>\n",
       "      <td>-29690.0</td>\n",
       "      <td>-34133.0</td>\n",
       "      <td>-17200.0</td>\n",
       "      <td>-24197.0</td>\n",
       "      <td>-18992.0</td>\n",
       "      <td>-29013.0</td>\n",
       "      <td>-29151.0</td>\n",
       "      <td>-22957.0</td>\n",
       "      <td>-24180.0</td>\n",
       "      <td>-25861.0</td>\n",
       "    </tr>\n",
       "  </tbody>\n",
       "</table>\n",
       "</div>"
      ],
      "text/plain": [
       "          Enero  Febrero    Marzo    Abril     Mayo    Junio    Julio  \\\n",
       "Ahorro  29685.0  24437.0  21721.0  15200.0  27504.0  22720.0  26690.0   \n",
       "Gasto  -18162.0 -24398.0 -29690.0 -34133.0 -17200.0 -24197.0 -18992.0   \n",
       "\n",
       "         Agosto  Septiembre  Octubre  Noviembre  Diciembre  \n",
       "Ahorro  20278.0     18203.0  26369.0    25337.0    22817.0  \n",
       "Gasto  -29013.0    -29151.0 -22957.0   -24180.0   -25861.0  "
      ]
     },
     "execution_count": 16,
     "metadata": {},
     "output_type": "execute_result"
    }
   ],
   "source": [
    "data2 = data.loc[['Ahorro','Gasto']]\n",
    "data2"
   ]
  },
  {
   "cell_type": "markdown",
   "metadata": {},
   "source": [
    "Creamos la gráfica"
   ]
  },
  {
   "cell_type": "code",
   "execution_count": 17,
   "metadata": {
    "ExecuteTime": {
     "end_time": "2022-04-20T12:01:39.279388Z",
     "start_time": "2022-04-20T12:01:38.126372Z"
    }
   },
   "outputs": [],
   "source": [
    "fig = px.bar(data2.transpose(),opacity=0.7,title='Gasto y Ahorro por mes',text_auto=True)\n",
    "fig.layout.xaxis.title.text = 'Mes'\n",
    "fig.layout.yaxis.title.text = 'Valor'"
   ]
  },
  {
   "cell_type": "markdown",
   "metadata": {},
   "source": [
    "Vamos a pasar la gráfica a una imagen e imprimirla en el notebook"
   ]
  },
  {
   "cell_type": "code",
   "execution_count": 18,
   "metadata": {
    "ExecuteTime": {
     "end_time": "2022-04-20T12:01:40.516508Z",
     "start_time": "2022-04-20T12:01:39.280814Z"
    }
   },
   "outputs": [
    {
     "data": {
      "image/jpeg": "[encoded data removed]",
      "text/plain": [
       "<IPython.core.display.Image object>"
      ]
     },
     "execution_count": 18,
     "metadata": {},
     "output_type": "execute_result"
    }
   ],
   "source": [
    "img = fig.to_image(format='jpeg',width=1200,height=600,scale=2)\n",
    "Image(img)"
   ]
  },
  {
   "cell_type": "code",
   "execution_count": 23,
   "metadata": {
    "ExecuteTime": {
     "end_time": "2022-04-20T12:03:56.730100Z",
     "start_time": "2022-04-20T12:03:56.726135Z"
    }
   },
   "outputs": [
    {
     "data": {
      "text/plain": [
       "True"
      ]
     },
     "execution_count": 23,
     "metadata": {},
     "output_type": "execute_result"
    }
   ],
   "source": [
    "data.Enero.dtypes in ('float64','int64')"
   ]
  },
  {
   "cell_type": "code",
   "execution_count": 24,
   "metadata": {
    "ExecuteTime": {
     "end_time": "2022-04-20T12:09:44.064139Z",
     "start_time": "2022-04-20T12:09:44.042933Z"
    }
   },
   "outputs": [
    {
     "data": {
      "text/html": [
       "<div>\n",
       "<style scoped>\n",
       "    .dataframe tbody tr th:only-of-type {\n",
       "        vertical-align: middle;\n",
       "    }\n",
       "\n",
       "    .dataframe tbody tr th {\n",
       "        vertical-align: top;\n",
       "    }\n",
       "\n",
       "    .dataframe thead th {\n",
       "        text-align: right;\n",
       "    }\n",
       "</style>\n",
       "<table border=\"1\" class=\"dataframe\">\n",
       "  <thead>\n",
       "    <tr style=\"text-align: right;\">\n",
       "      <th></th>\n",
       "      <th>Enero</th>\n",
       "      <th>Febrero</th>\n",
       "      <th>Marzo</th>\n",
       "      <th>Abril</th>\n",
       "      <th>Mayo</th>\n",
       "      <th>Junio</th>\n",
       "      <th>Julio</th>\n",
       "      <th>Agosto</th>\n",
       "      <th>Septiembre</th>\n",
       "      <th>Octubre</th>\n",
       "      <th>Noviembre</th>\n",
       "      <th>Diciembre</th>\n",
       "    </tr>\n",
       "  </thead>\n",
       "  <tbody>\n",
       "    <tr>\n",
       "      <th>0</th>\n",
       "      <td>-760.0</td>\n",
       "      <td>NaN</td>\n",
       "      <td>NaN</td>\n",
       "      <td>-624.0</td>\n",
       "      <td>-390.0</td>\n",
       "      <td>-796.0</td>\n",
       "      <td>NaN</td>\n",
       "      <td>-780.0</td>\n",
       "      <td>-491.0</td>\n",
       "      <td>NaN</td>\n",
       "      <td>-248.0</td>\n",
       "      <td>NaN</td>\n",
       "    </tr>\n",
       "    <tr>\n",
       "      <th>1</th>\n",
       "      <td>NaN</td>\n",
       "      <td>NaN</td>\n",
       "      <td>-397.0</td>\n",
       "      <td>-123.0</td>\n",
       "      <td>NaN</td>\n",
       "      <td>-115.0</td>\n",
       "      <td>NaN</td>\n",
       "      <td>-741.0</td>\n",
       "      <td>-951.0</td>\n",
       "      <td>NaN</td>\n",
       "      <td>NaN</td>\n",
       "      <td>-596.0</td>\n",
       "    </tr>\n",
       "    <tr>\n",
       "      <th>2</th>\n",
       "      <td>-872.0</td>\n",
       "      <td>-913.0</td>\n",
       "      <td>NaN</td>\n",
       "      <td>NaN</td>\n",
       "      <td>NaN</td>\n",
       "      <td>-223.0</td>\n",
       "      <td>NaN</td>\n",
       "      <td>-113.0</td>\n",
       "      <td>NaN</td>\n",
       "      <td>NaN</td>\n",
       "      <td>-977.0</td>\n",
       "      <td>NaN</td>\n",
       "    </tr>\n",
       "    <tr>\n",
       "      <th>3</th>\n",
       "      <td>NaN</td>\n",
       "      <td>-842.0</td>\n",
       "      <td>NaN</td>\n",
       "      <td>-761.0</td>\n",
       "      <td>NaN</td>\n",
       "      <td>-963.0</td>\n",
       "      <td>-290.0</td>\n",
       "      <td>-669.0</td>\n",
       "      <td>NaN</td>\n",
       "      <td>NaN</td>\n",
       "      <td>NaN</td>\n",
       "      <td>-274.0</td>\n",
       "    </tr>\n",
       "    <tr>\n",
       "      <th>4</th>\n",
       "      <td>NaN</td>\n",
       "      <td>NaN</td>\n",
       "      <td>-688.0</td>\n",
       "      <td>NaN</td>\n",
       "      <td>NaN</td>\n",
       "      <td>NaN</td>\n",
       "      <td>NaN</td>\n",
       "      <td>NaN</td>\n",
       "      <td>-302.0</td>\n",
       "      <td>NaN</td>\n",
       "      <td>NaN</td>\n",
       "      <td>-731.0</td>\n",
       "    </tr>\n",
       "    <tr>\n",
       "      <th>...</th>\n",
       "      <td>...</td>\n",
       "      <td>...</td>\n",
       "      <td>...</td>\n",
       "      <td>...</td>\n",
       "      <td>...</td>\n",
       "      <td>...</td>\n",
       "      <td>...</td>\n",
       "      <td>...</td>\n",
       "      <td>...</td>\n",
       "      <td>...</td>\n",
       "      <td>...</td>\n",
       "      <td>...</td>\n",
       "    </tr>\n",
       "    <tr>\n",
       "      <th>97</th>\n",
       "      <td>-380.0</td>\n",
       "      <td>NaN</td>\n",
       "      <td>-790.0</td>\n",
       "      <td>NaN</td>\n",
       "      <td>-59.0</td>\n",
       "      <td>-743.0</td>\n",
       "      <td>-296.0</td>\n",
       "      <td>NaN</td>\n",
       "      <td>-767.0</td>\n",
       "      <td>NaN</td>\n",
       "      <td>-116.0</td>\n",
       "      <td>-873.0</td>\n",
       "    </tr>\n",
       "    <tr>\n",
       "      <th>98</th>\n",
       "      <td>NaN</td>\n",
       "      <td>-44.0</td>\n",
       "      <td>-271.0</td>\n",
       "      <td>NaN</td>\n",
       "      <td>-55.0</td>\n",
       "      <td>-699.0</td>\n",
       "      <td>NaN</td>\n",
       "      <td>-203.0</td>\n",
       "      <td>-792.0</td>\n",
       "      <td>-848.0</td>\n",
       "      <td>NaN</td>\n",
       "      <td>-378.0</td>\n",
       "    </tr>\n",
       "    <tr>\n",
       "      <th>99</th>\n",
       "      <td>NaN</td>\n",
       "      <td>-221.0</td>\n",
       "      <td>NaN</td>\n",
       "      <td>-960.0</td>\n",
       "      <td>-303.0</td>\n",
       "      <td>-384.0</td>\n",
       "      <td>NaN</td>\n",
       "      <td>-11.0</td>\n",
       "      <td>-456.0</td>\n",
       "      <td>NaN</td>\n",
       "      <td>NaN</td>\n",
       "      <td>NaN</td>\n",
       "    </tr>\n",
       "    <tr>\n",
       "      <th>Gasto</th>\n",
       "      <td>-18162.0</td>\n",
       "      <td>-24398.0</td>\n",
       "      <td>-29690.0</td>\n",
       "      <td>-34133.0</td>\n",
       "      <td>-17200.0</td>\n",
       "      <td>-24197.0</td>\n",
       "      <td>-18992.0</td>\n",
       "      <td>-29013.0</td>\n",
       "      <td>-29151.0</td>\n",
       "      <td>-22957.0</td>\n",
       "      <td>-24180.0</td>\n",
       "      <td>-25861.0</td>\n",
       "    </tr>\n",
       "    <tr>\n",
       "      <th>Ahorro</th>\n",
       "      <td>NaN</td>\n",
       "      <td>NaN</td>\n",
       "      <td>NaN</td>\n",
       "      <td>NaN</td>\n",
       "      <td>NaN</td>\n",
       "      <td>NaN</td>\n",
       "      <td>NaN</td>\n",
       "      <td>NaN</td>\n",
       "      <td>NaN</td>\n",
       "      <td>NaN</td>\n",
       "      <td>NaN</td>\n",
       "      <td>NaN</td>\n",
       "    </tr>\n",
       "  </tbody>\n",
       "</table>\n",
       "<p>102 rows × 12 columns</p>\n",
       "</div>"
      ],
      "text/plain": [
       "          Enero  Febrero    Marzo    Abril     Mayo    Junio    Julio  \\\n",
       "0        -760.0      NaN      NaN   -624.0   -390.0   -796.0      NaN   \n",
       "1           NaN      NaN   -397.0   -123.0      NaN   -115.0      NaN   \n",
       "2        -872.0   -913.0      NaN      NaN      NaN   -223.0      NaN   \n",
       "3           NaN   -842.0      NaN   -761.0      NaN   -963.0   -290.0   \n",
       "4           NaN      NaN   -688.0      NaN      NaN      NaN      NaN   \n",
       "...         ...      ...      ...      ...      ...      ...      ...   \n",
       "97       -380.0      NaN   -790.0      NaN    -59.0   -743.0   -296.0   \n",
       "98          NaN    -44.0   -271.0      NaN    -55.0   -699.0      NaN   \n",
       "99          NaN   -221.0      NaN   -960.0   -303.0   -384.0      NaN   \n",
       "Gasto  -18162.0 -24398.0 -29690.0 -34133.0 -17200.0 -24197.0 -18992.0   \n",
       "Ahorro      NaN      NaN      NaN      NaN      NaN      NaN      NaN   \n",
       "\n",
       "         Agosto  Septiembre  Octubre  Noviembre  Diciembre  \n",
       "0        -780.0      -491.0      NaN     -248.0        NaN  \n",
       "1        -741.0      -951.0      NaN        NaN     -596.0  \n",
       "2        -113.0         NaN      NaN     -977.0        NaN  \n",
       "3        -669.0         NaN      NaN        NaN     -274.0  \n",
       "4           NaN      -302.0      NaN        NaN     -731.0  \n",
       "...         ...         ...      ...        ...        ...  \n",
       "97          NaN      -767.0      NaN     -116.0     -873.0  \n",
       "98       -203.0      -792.0   -848.0        NaN     -378.0  \n",
       "99        -11.0      -456.0      NaN        NaN        NaN  \n",
       "Gasto  -29013.0    -29151.0 -22957.0   -24180.0   -25861.0  \n",
       "Ahorro      NaN         NaN      NaN        NaN        NaN  \n",
       "\n",
       "[102 rows x 12 columns]"
      ]
     },
     "execution_count": 24,
     "metadata": {},
     "output_type": "execute_result"
    }
   ],
   "source": [
    "data[data<0]"
   ]
  },
  {
   "cell_type": "code",
   "execution_count": 29,
   "metadata": {
    "ExecuteTime": {
     "end_time": "2022-04-20T13:44:28.957338Z",
     "start_time": "2022-04-20T13:44:28.935935Z"
    }
   },
   "outputs": [
    {
     "data": {
      "text/html": [
       "<div>\n",
       "<style scoped>\n",
       "    .dataframe tbody tr th:only-of-type {\n",
       "        vertical-align: middle;\n",
       "    }\n",
       "\n",
       "    .dataframe tbody tr th {\n",
       "        vertical-align: top;\n",
       "    }\n",
       "\n",
       "    .dataframe thead th {\n",
       "        text-align: right;\n",
       "    }\n",
       "</style>\n",
       "<table border=\"1\" class=\"dataframe\">\n",
       "  <thead>\n",
       "    <tr style=\"text-align: right;\">\n",
       "      <th></th>\n",
       "      <th>Enero</th>\n",
       "      <th>Febrero</th>\n",
       "      <th>Marzo</th>\n",
       "      <th>Abril</th>\n",
       "      <th>Mayo</th>\n",
       "      <th>Junio</th>\n",
       "      <th>Julio</th>\n",
       "      <th>Agosto</th>\n",
       "      <th>Septiembre</th>\n",
       "      <th>Octubre</th>\n",
       "      <th>Noviembre</th>\n",
       "      <th>Diciembre</th>\n",
       "    </tr>\n",
       "  </thead>\n",
       "  <tbody>\n",
       "    <tr>\n",
       "      <th>0</th>\n",
       "      <td>-760.0</td>\n",
       "      <td>343.0</td>\n",
       "      <td>265.0</td>\n",
       "      <td>-624.0</td>\n",
       "      <td>-390.0</td>\n",
       "      <td>-796.0</td>\n",
       "      <td>601.0</td>\n",
       "      <td>-780.0</td>\n",
       "      <td>-491.0</td>\n",
       "      <td>645.0</td>\n",
       "      <td>-248.0</td>\n",
       "      <td>714.0</td>\n",
       "    </tr>\n",
       "    <tr>\n",
       "      <th>1</th>\n",
       "      <td>223.0</td>\n",
       "      <td>491.0</td>\n",
       "      <td>-397.0</td>\n",
       "      <td>-123.0</td>\n",
       "      <td>6.0</td>\n",
       "      <td>-115.0</td>\n",
       "      <td>157.0</td>\n",
       "      <td>-741.0</td>\n",
       "      <td>-951.0</td>\n",
       "      <td>267.0</td>\n",
       "      <td>14.0</td>\n",
       "      <td>-596.0</td>\n",
       "    </tr>\n",
       "    <tr>\n",
       "      <th>2</th>\n",
       "      <td>-872.0</td>\n",
       "      <td>-913.0</td>\n",
       "      <td>558.0</td>\n",
       "      <td>278.0</td>\n",
       "      <td>544.0</td>\n",
       "      <td>-223.0</td>\n",
       "      <td>607.0</td>\n",
       "      <td>-113.0</td>\n",
       "      <td>348.0</td>\n",
       "      <td>576.0</td>\n",
       "      <td>-977.0</td>\n",
       "      <td>195.0</td>\n",
       "    </tr>\n",
       "    <tr>\n",
       "      <th>3</th>\n",
       "      <td>111.0</td>\n",
       "      <td>-842.0</td>\n",
       "      <td>730.0</td>\n",
       "      <td>-761.0</td>\n",
       "      <td>158.0</td>\n",
       "      <td>-963.0</td>\n",
       "      <td>-290.0</td>\n",
       "      <td>-669.0</td>\n",
       "      <td>191.0</td>\n",
       "      <td>130.0</td>\n",
       "      <td>170.0</td>\n",
       "      <td>-274.0</td>\n",
       "    </tr>\n",
       "    <tr>\n",
       "      <th>4</th>\n",
       "      <td>919.0</td>\n",
       "      <td>111.0</td>\n",
       "      <td>-688.0</td>\n",
       "      <td>15.0</td>\n",
       "      <td>395.0</td>\n",
       "      <td>9.0</td>\n",
       "      <td>553.0</td>\n",
       "      <td>297.0</td>\n",
       "      <td>-302.0</td>\n",
       "      <td>695.0</td>\n",
       "      <td>730.0</td>\n",
       "      <td>-731.0</td>\n",
       "    </tr>\n",
       "    <tr>\n",
       "      <th>...</th>\n",
       "      <td>...</td>\n",
       "      <td>...</td>\n",
       "      <td>...</td>\n",
       "      <td>...</td>\n",
       "      <td>...</td>\n",
       "      <td>...</td>\n",
       "      <td>...</td>\n",
       "      <td>...</td>\n",
       "      <td>...</td>\n",
       "      <td>...</td>\n",
       "      <td>...</td>\n",
       "      <td>...</td>\n",
       "    </tr>\n",
       "    <tr>\n",
       "      <th>97</th>\n",
       "      <td>-380.0</td>\n",
       "      <td>946.0</td>\n",
       "      <td>-790.0</td>\n",
       "      <td>9.0</td>\n",
       "      <td>-59.0</td>\n",
       "      <td>-743.0</td>\n",
       "      <td>-296.0</td>\n",
       "      <td>321.0</td>\n",
       "      <td>-767.0</td>\n",
       "      <td>944.0</td>\n",
       "      <td>-116.0</td>\n",
       "      <td>-873.0</td>\n",
       "    </tr>\n",
       "    <tr>\n",
       "      <th>98</th>\n",
       "      <td>244.0</td>\n",
       "      <td>-44.0</td>\n",
       "      <td>-271.0</td>\n",
       "      <td>462.0</td>\n",
       "      <td>-55.0</td>\n",
       "      <td>-699.0</td>\n",
       "      <td>674.0</td>\n",
       "      <td>-203.0</td>\n",
       "      <td>-792.0</td>\n",
       "      <td>-848.0</td>\n",
       "      <td>263.0</td>\n",
       "      <td>-378.0</td>\n",
       "    </tr>\n",
       "    <tr>\n",
       "      <th>99</th>\n",
       "      <td>126.0</td>\n",
       "      <td>-221.0</td>\n",
       "      <td>290.0</td>\n",
       "      <td>-960.0</td>\n",
       "      <td>-303.0</td>\n",
       "      <td>-384.0</td>\n",
       "      <td>506.0</td>\n",
       "      <td>-11.0</td>\n",
       "      <td>-456.0</td>\n",
       "      <td>268.0</td>\n",
       "      <td>630.0</td>\n",
       "      <td>271.0</td>\n",
       "    </tr>\n",
       "    <tr>\n",
       "      <th>Gasto</th>\n",
       "      <td>-18162.0</td>\n",
       "      <td>-24398.0</td>\n",
       "      <td>-29690.0</td>\n",
       "      <td>-34133.0</td>\n",
       "      <td>-17200.0</td>\n",
       "      <td>-24197.0</td>\n",
       "      <td>-18992.0</td>\n",
       "      <td>-29013.0</td>\n",
       "      <td>-29151.0</td>\n",
       "      <td>-22957.0</td>\n",
       "      <td>-24180.0</td>\n",
       "      <td>-25861.0</td>\n",
       "    </tr>\n",
       "    <tr>\n",
       "      <th>Ahorro</th>\n",
       "      <td>29685.0</td>\n",
       "      <td>24437.0</td>\n",
       "      <td>21721.0</td>\n",
       "      <td>15200.0</td>\n",
       "      <td>27504.0</td>\n",
       "      <td>22720.0</td>\n",
       "      <td>26690.0</td>\n",
       "      <td>20278.0</td>\n",
       "      <td>18203.0</td>\n",
       "      <td>26369.0</td>\n",
       "      <td>25337.0</td>\n",
       "      <td>22817.0</td>\n",
       "    </tr>\n",
       "  </tbody>\n",
       "</table>\n",
       "<p>102 rows × 12 columns</p>\n",
       "</div>"
      ],
      "text/plain": [
       "          Enero  Febrero    Marzo    Abril     Mayo    Junio    Julio  \\\n",
       "0        -760.0    343.0    265.0   -624.0   -390.0   -796.0    601.0   \n",
       "1         223.0    491.0   -397.0   -123.0      6.0   -115.0    157.0   \n",
       "2        -872.0   -913.0    558.0    278.0    544.0   -223.0    607.0   \n",
       "3         111.0   -842.0    730.0   -761.0    158.0   -963.0   -290.0   \n",
       "4         919.0    111.0   -688.0     15.0    395.0      9.0    553.0   \n",
       "...         ...      ...      ...      ...      ...      ...      ...   \n",
       "97       -380.0    946.0   -790.0      9.0    -59.0   -743.0   -296.0   \n",
       "98        244.0    -44.0   -271.0    462.0    -55.0   -699.0    674.0   \n",
       "99        126.0   -221.0    290.0   -960.0   -303.0   -384.0    506.0   \n",
       "Gasto  -18162.0 -24398.0 -29690.0 -34133.0 -17200.0 -24197.0 -18992.0   \n",
       "Ahorro  29685.0  24437.0  21721.0  15200.0  27504.0  22720.0  26690.0   \n",
       "\n",
       "         Agosto  Septiembre  Octubre  Noviembre  Diciembre  \n",
       "0        -780.0      -491.0    645.0     -248.0      714.0  \n",
       "1        -741.0      -951.0    267.0       14.0     -596.0  \n",
       "2        -113.0       348.0    576.0     -977.0      195.0  \n",
       "3        -669.0       191.0    130.0      170.0     -274.0  \n",
       "4         297.0      -302.0    695.0      730.0     -731.0  \n",
       "...         ...         ...      ...        ...        ...  \n",
       "97        321.0      -767.0    944.0     -116.0     -873.0  \n",
       "98       -203.0      -792.0   -848.0      263.0     -378.0  \n",
       "99        -11.0      -456.0    268.0      630.0      271.0  \n",
       "Gasto  -29013.0    -29151.0 -22957.0   -24180.0   -25861.0  \n",
       "Ahorro  20278.0     18203.0  26369.0    25337.0    22817.0  \n",
       "\n",
       "[102 rows x 12 columns]"
      ]
     },
     "execution_count": 29,
     "metadata": {},
     "output_type": "execute_result"
    }
   ],
   "source": [
    "data"
   ]
  },
  {
   "cell_type": "code",
   "execution_count": 30,
   "metadata": {
    "ExecuteTime": {
     "end_time": "2022-04-20T13:44:38.646742Z",
     "start_time": "2022-04-20T13:44:38.633991Z"
    }
   },
   "outputs": [
    {
     "data": {
      "text/html": [
       "<div>\n",
       "<style scoped>\n",
       "    .dataframe tbody tr th:only-of-type {\n",
       "        vertical-align: middle;\n",
       "    }\n",
       "\n",
       "    .dataframe tbody tr th {\n",
       "        vertical-align: top;\n",
       "    }\n",
       "\n",
       "    .dataframe thead th {\n",
       "        text-align: right;\n",
       "    }\n",
       "</style>\n",
       "<table border=\"1\" class=\"dataframe\">\n",
       "  <thead>\n",
       "    <tr style=\"text-align: right;\">\n",
       "      <th></th>\n",
       "      <th>Enero</th>\n",
       "      <th>Febrero</th>\n",
       "      <th>Marzo</th>\n",
       "      <th>Abril</th>\n",
       "      <th>Mayo</th>\n",
       "      <th>Junio</th>\n",
       "      <th>Julio</th>\n",
       "      <th>Agosto</th>\n",
       "      <th>Septiembre</th>\n",
       "      <th>Octubre</th>\n",
       "      <th>Noviembre</th>\n",
       "      <th>Diciembre</th>\n",
       "    </tr>\n",
       "  </thead>\n",
       "  <tbody>\n",
       "    <tr>\n",
       "      <th>Ahorro</th>\n",
       "      <td>29685.0</td>\n",
       "      <td>24437.0</td>\n",
       "      <td>21721.0</td>\n",
       "      <td>15200.0</td>\n",
       "      <td>27504.0</td>\n",
       "      <td>22720.0</td>\n",
       "      <td>26690.0</td>\n",
       "      <td>20278.0</td>\n",
       "      <td>18203.0</td>\n",
       "      <td>26369.0</td>\n",
       "      <td>25337.0</td>\n",
       "      <td>22817.0</td>\n",
       "    </tr>\n",
       "    <tr>\n",
       "      <th>Gasto</th>\n",
       "      <td>-18162.0</td>\n",
       "      <td>-24398.0</td>\n",
       "      <td>-29690.0</td>\n",
       "      <td>-34133.0</td>\n",
       "      <td>-17200.0</td>\n",
       "      <td>-24197.0</td>\n",
       "      <td>-18992.0</td>\n",
       "      <td>-29013.0</td>\n",
       "      <td>-29151.0</td>\n",
       "      <td>-22957.0</td>\n",
       "      <td>-24180.0</td>\n",
       "      <td>-25861.0</td>\n",
       "    </tr>\n",
       "  </tbody>\n",
       "</table>\n",
       "</div>"
      ],
      "text/plain": [
       "          Enero  Febrero    Marzo    Abril     Mayo    Junio    Julio  \\\n",
       "Ahorro  29685.0  24437.0  21721.0  15200.0  27504.0  22720.0  26690.0   \n",
       "Gasto  -18162.0 -24398.0 -29690.0 -34133.0 -17200.0 -24197.0 -18992.0   \n",
       "\n",
       "         Agosto  Septiembre  Octubre  Noviembre  Diciembre  \n",
       "Ahorro  20278.0     18203.0  26369.0    25337.0    22817.0  \n",
       "Gasto  -29013.0    -29151.0 -22957.0   -24180.0   -25861.0  "
      ]
     },
     "execution_count": 30,
     "metadata": {},
     "output_type": "execute_result"
    }
   ],
   "source": [
    "data2"
   ]
  },
  {
   "cell_type": "code",
   "execution_count": null,
   "metadata": {},
   "outputs": [],
   "source": []
  }
 ],
 "metadata": {
  "hide_input": false,
  "interpreter": {
   "hash": "2bfbc34f8edee087ec01a8134e9a7c50d0f6b9bf47e2bac0e62bee955e8112c2"
  },
  "kernelspec": {
   "display_name": "Python [conda env:env]",
   "language": "python",
   "name": "conda-env-env-py"
  },
  "language_info": {
   "codemirror_mode": {
    "name": "ipython",
    "version": 3
   },
   "file_extension": ".py",
   "mimetype": "text/x-python",
   "name": "python",
   "nbconvert_exporter": "python",
   "pygments_lexer": "ipython3",
   "version": "3.8.13"
  },
  "toc": {
   "base_numbering": 1,
   "nav_menu": {},
   "number_sections": true,
   "sideBar": true,
   "skip_h1_title": false,
   "title_cell": "Table of Contents",
   "title_sidebar": "Contents",
   "toc_cell": false,
   "toc_position": {},
   "toc_section_display": true,
   "toc_window_display": false
  },
  "varInspector": {
   "cols": {
    "lenName": 16,
    "lenType": 16,
    "lenVar": 40
   },
   "kernels_config": {
    "python": {
     "delete_cmd_postfix": "",
     "delete_cmd_prefix": "del ",
     "library": "var_list.py",
     "varRefreshCmd": "print(var_dic_list())"
    },
    "r": {
     "delete_cmd_postfix": ") ",
     "delete_cmd_prefix": "rm(",
     "library": "var_list.r",
     "varRefreshCmd": "cat(var_dic_list()) "
    }
   },
   "types_to_exclude": [
    "module",
    "function",
    "builtin_function_or_method",
    "instance",
    "_Feature"
   ],
   "window_display": false
  }
 },
 "nbformat": 4,
 "nbformat_minor": 2
}
